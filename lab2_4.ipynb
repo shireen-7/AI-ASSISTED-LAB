{
  "nbformat": 4,
  "nbformat_minor": 0,
  "metadata": {
    "colab": {
      "provenance": [],
      "authorship_tag": "ABX9TyPYOgB6KyBUwZr5AD0h5GT/",
      "include_colab_link": true
    },
    "kernelspec": {
      "name": "python3",
      "display_name": "Python 3"
    },
    "language_info": {
      "name": "python"
    }
  },
  "cells": [
    {
      "cell_type": "markdown",
      "metadata": {
        "id": "view-in-github",
        "colab_type": "text"
      },
      "source": [
        "<a href=\"https://colab.research.google.com/github/shireen-7/AI-ASSISTED-LAB/blob/main/lab2_4.ipynb\" target=\"_parent\"><img src=\"https://colab.research.google.com/assets/colab-badge.svg\" alt=\"Open In Colab\"/></a>"
      ]
    },
    {
      "cell_type": "markdown",
      "source": [
        "task0: write python function to verify the given number is odd or even\n",
        "\n",
        "prompt: generate a python function to check odd or even number\n"
      ],
      "metadata": {
        "id": "qAmUhMa6OmwR"
      }
    },
    {
      "cell_type": "code",
      "source": [
        "def check_odd_even(number):\n",
        "  \"\"\"\n",
        "  Checks if a given number is odd or even.\n",
        "\n",
        "  Args:\n",
        "    number: The integer to check.\n",
        "\n",
        "  Returns:\n",
        "    \"Even\" if the number is even, \"Odd\" if the number is odd.\n",
        "  \"\"\"\n",
        "  if number % 2 == 0:\n",
        "    return \"Even\"\n",
        "  else:\n",
        "    return \"Odd\"\n",
        "\n",
        "# Example usage:\n",
        "num1 = 10\n",
        "num2 = 7\n",
        "print(f\"{num1} is {check_odd_even(num1)}\")\n",
        "print(f\"{num2} is {check_odd_even(num2)}\")"
      ],
      "metadata": {
        "colab": {
          "base_uri": "https://localhost:8080/"
        },
        "id": "ZRIS8rN1P29N",
        "outputId": "3253bf0d-abf8-48b1-cfc7-c2cca93009d6"
      },
      "execution_count": 1,
      "outputs": [
        {
          "output_type": "stream",
          "name": "stdout",
          "text": [
            "10 is Even\n",
            "7 is Odd\n"
          ]
        }
      ]
    },
    {
      "cell_type": "markdown",
      "source": [
        "task1: write a python function to sort lists\n",
        "\n",
        "prompt: generate a python code to sort list using bubble sort algorithm and using sort() method"
      ],
      "metadata": {
        "id": "pNJ_FD1nQsQ-"
      }
    },
    {
      "cell_type": "code",
      "metadata": {
        "colab": {
          "base_uri": "https://localhost:8080/"
        },
        "id": "345608a2",
        "outputId": "bcb9734c-5b5b-40dd-fce6-172e7ead4784"
      },
      "source": [
        "def bubble_sort(list_data):\n",
        "  \"\"\"\n",
        "  Sorts a list using the bubble sort algorithm.\n",
        "\n",
        "  Args:\n",
        "    list_data: The list to sort.\n",
        "\n",
        "  Returns:\n",
        "    The sorted list.\n",
        "  \"\"\"\n",
        "  n = len(list_data)\n",
        "  for i in range(n):\n",
        "    for j in range(0, n - i - 1):\n",
        "      if list_data[j] > list_data[j + 1]:\n",
        "        list_data[j], list_data[j + 1] = list_data[j + 1], list_data[j]\n",
        "  return list_data\n",
        "\n",
        "# Example usage with bubble sort:\n",
        "my_list = [64, 34, 25, 12, 22, 11, 90]\n",
        "sorted_list_bubble = bubble_sort(my_list.copy()) # Use a copy to keep original list\n",
        "print(f\"Sorted list using bubble sort: {sorted_list_bubble}\")"
      ],
      "execution_count": 6,
      "outputs": [
        {
          "output_type": "stream",
          "name": "stdout",
          "text": [
            "Sorted list using bubble sort: [11, 12, 22, 25, 34, 64, 90]\n"
          ]
        }
      ]
    },
    {
      "cell_type": "markdown",
      "source": [
        "This code defines a function called bubble_sort that takes a list of numbers as input and sorts it using the bubble sort algorithm. The algorithm works by repeatedly stepping through the list, comparing adjacent elements and swapping them if they are in the wrong order. This process is repeated until the list is sorted. The code then demonstrates how to use this function with an example list."
      ],
      "metadata": {
        "id": "SYcNROcKUCR_"
      }
    },
    {
      "cell_type": "code",
      "metadata": {
        "colab": {
          "base_uri": "https://localhost:8080/"
        },
        "id": "2ffbd5fb",
        "outputId": "6d37881a-1e62-4875-db47-46c69b4d0aed"
      },
      "source": [
        "# Example usage with sort() method:\n",
        "my_list_2 = [64, 34, 25, 12, 22, 11, 90]\n",
        "my_list_2.sort()\n",
        "print(f\"Sorted list using sort() method: {my_list_2}\")"
      ],
      "execution_count": 5,
      "outputs": [
        {
          "output_type": "stream",
          "name": "stdout",
          "text": [
            "Sorted list using sort() method: [11, 12, 22, 25, 34, 64, 90]\n"
          ]
        }
      ]
    },
    {
      "cell_type": "markdown",
      "source": [
        "It takes a list called my_list_2 and uses the built-in .sort() method directly on the list. This method rearranges the elements within my_list_2 itself to put them in ascending order. Finally, it prints the now-sorted list."
      ],
      "metadata": {
        "id": "Z7lYFf6rTf4z"
      }
    },
    {
      "cell_type": "markdown",
      "source": [
        "task2: a Python function that takes a string and returns:Number of vowels,Number of consonants,Number of digits,Test the function with an example string and print the results\n",
        "\n",
        "prompt: Generate a python code that takes a string and returns number of vowels,Number of consonants,Number of digits,Test the function with an example string and print the results\n"
      ],
      "metadata": {
        "id": "V3tDa1jVUckD"
      }
    },
    {
      "cell_type": "code",
      "metadata": {
        "colab": {
          "base_uri": "https://localhost:8080/"
        },
        "id": "ff810371",
        "outputId": "798e2252-e7fa-467a-a09f-1538bcec434d"
      },
      "source": [
        "def count_chars(input_string):\n",
        "  \"\"\"\n",
        "  Counts the number of vowels, consonants, and digits in a string.\n",
        "\n",
        "  Args:\n",
        "    input_string: The string to analyze.\n",
        "\n",
        "  Returns:\n",
        "    A dictionary containing the counts of vowels, consonants, and digits.\n",
        "  \"\"\"\n",
        "  vowels = \"aeiouAEIOU\"\n",
        "  consonants = \"bcdfghjklmnpqrstvwxyzBCDFGHJKLMNPQRSTVWXYZ\"\n",
        "  digits = \"0123456789\"\n",
        "\n",
        "  vowel_count = 0\n",
        "  consonant_count = 0\n",
        "  digit_count = 0\n",
        "\n",
        "  for char in input_string:\n",
        "    if char in vowels:\n",
        "      vowel_count += 1\n",
        "    elif char in consonants:\n",
        "      consonant_count += 1\n",
        "    elif char in digits:\n",
        "      digit_count += 1\n",
        "\n",
        "  return {\n",
        "      \"vowels\": vowel_count,\n",
        "      \"consonants\": consonant_count,\n",
        "      \"digits\": digit_count\n",
        "  }\n",
        "\n",
        "# Example usage:\n",
        "example_string = \"Hello World 123!\"\n",
        "counts = count_chars(example_string)\n",
        "\n",
        "print(f\"String: '{example_string}'\")\n",
        "print(f\"Number of vowels: {counts['vowels']}\")\n",
        "print(f\"Number of consonants: {counts['consonants']}\")\n",
        "print(f\"Number of digits: {counts['digits']}\")"
      ],
      "execution_count": 7,
      "outputs": [
        {
          "output_type": "stream",
          "name": "stdout",
          "text": [
            "String: 'Hello World 123!'\n",
            "Number of vowels: 3\n",
            "Number of consonants: 7\n",
            "Number of digits: 3\n"
          ]
        }
      ]
    },
    {
      "cell_type": "markdown",
      "source": [
        "The code defines a function count_chars that takes a string. It goes through each character in the string and checks if it's a vowel, consonant, or digit using predefined lists. It keeps track of the counts for each category and finally returns a dictionary with the total counts of vowels, consonants, and digits found in the string.\n",
        "\n"
      ],
      "metadata": {
        "id": "xEYtikUeWBKL"
      }
    },
    {
      "cell_type": "markdown",
      "source": [
        "task3 : write a python code which creates reads and display the text from text file.\n",
        "prompt: generate a python code which creates a text file reads the content of the text file and prints the text\n"
      ],
      "metadata": {
        "id": "bhZ--EG4Y7UD"
      }
    },
    {
      "cell_type": "code",
      "metadata": {
        "colab": {
          "base_uri": "https://localhost:8080/"
        },
        "id": "bc410c5f",
        "outputId": "4c94c0be-2d44-4e3c-f120-db83c158becc"
      },
      "source": [
        "# Define the filename\n",
        "filename = \"my_text_file.txt\"\n",
        "\n",
        "# Create and write to the text file\n",
        "with open(filename, \"w\") as file:\n",
        "  file.write(\"This is the first line.\\n\")\n",
        "  file.write(\"This is the second line.\\n\")\n",
        "  file.write(\"And this is the third line.\")\n",
        "\n",
        "# Read the content from the text file\n",
        "with open(filename, \"r\") as file:\n",
        "  file_content = file.read()\n",
        "\n",
        "# Display the content\n",
        "print(\"Content of the file:\")\n",
        "print(file_content)"
      ],
      "execution_count": 8,
      "outputs": [
        {
          "output_type": "stream",
          "name": "stdout",
          "text": [
            "Content of the file:\n",
            "This is the first line.\n",
            "This is the second line.\n",
            "And this is the third line.\n"
          ]
        }
      ]
    },
    {
      "cell_type": "markdown",
      "source": [
        "filename = \"my_text_file.txt\": We're giving our file a name, like naming a new document.\n",
        "with open(filename, \"w\") as file:: We're opening the file so we can write in it. The \"w\" means we're ready to write. Anything in the file before will be erased.\n",
        "file.write(...): We're writing the lines of text into our file. Each \\n means \"start a new line\".\n",
        "with open(filename, \"r\") as file:: Now we open the file again, but this time to read from it. The \"r\" means we're ready to read.\n",
        "file_content = file.read(): We're reading everything that's in the file and putting it into a box (a variable) called file_content.\n",
        "print(...): We're showing what's inside the file_content box on the screen."
      ],
      "metadata": {
        "id": "rfefNfNOaFL8"
      }
    },
    {
      "cell_type": "markdown",
      "source": [
        "task 4: Write a Python program for a simple calculator using functions\n",
        "prompt : Write a Python program for a simple calculator using functions:add, subtract, multiply, divide,Ask the user to select an operation and enter two numbers,Perform the calculation and print the result.\n"
      ],
      "metadata": {
        "id": "CIfeTGSeaHLD"
      }
    },
    {
      "cell_type": "code",
      "metadata": {
        "colab": {
          "base_uri": "https://localhost:8080/"
        },
        "id": "f004cfb4",
        "outputId": "dd53201d-86b7-4986-e25b-38a209735a0f"
      },
      "source": [
        "def add(x, y):\n",
        "  \"\"\"Adds two numbers.\"\"\"\n",
        "  return x + y\n",
        "\n",
        "def subtract(x, y):\n",
        "  \"\"\"Subtracts two numbers.\"\"\"\n",
        "  return x - y\n",
        "\n",
        "def multiply(x, y):\n",
        "  \"\"\"Multiplies two numbers.\"\"\"\n",
        "  return x * y\n",
        "\n",
        "def divide(x, y):\n",
        "  \"\"\"Divides two numbers.\"\"\"\n",
        "  if y == 0:\n",
        "    return \"Error! Division by zero.\"\n",
        "  else:\n",
        "    return x / y\n",
        "\n",
        "print(\"Select operation:\")\n",
        "print(\"1.Add\")\n",
        "print(\"2.Subtract\")\n",
        "print(\"3.Multiply\")\n",
        "print(\"4.Divide\")\n",
        "\n",
        "while True:\n",
        "  # Take input from the user\n",
        "  choice = input(\"Enter choice(1/2/3/4): \")\n",
        "\n",
        "  # Check if choice is one of the four options\n",
        "  if choice in ('1', '2', '3', '4'):\n",
        "    try:\n",
        "      num1 = float(input(\"Enter first number: \"))\n",
        "      num2 = float(input(\"Enter second number: \"))\n",
        "    except ValueError:\n",
        "      print(\"Invalid input. Please enter a number.\")\n",
        "      continue\n",
        "\n",
        "    if choice == '1':\n",
        "      print(num1, \"+\", num2, \"=\", add(num1, num2))\n",
        "\n",
        "    elif choice == '2':\n",
        "      print(num1, \"-\", num2, \"=\", subtract(num1, num2))\n",
        "\n",
        "    elif choice == '3':\n",
        "      print(num1, \"*\", num2, \"=\", multiply(num1, num2))\n",
        "\n",
        "    elif choice == '4':\n",
        "      print(num1, \"/\", num2, \"=\", divide(num1, num2))\n",
        "\n",
        "    # Ask if the user wants another calculation\n",
        "    next_calculation = input(\"Let's do next calculation? (yes/no): \")\n",
        "    if next_calculation.lower() == \"no\":\n",
        "      break\n",
        "  else:\n",
        "    print(\"Invalid Input\")"
      ],
      "execution_count": 9,
      "outputs": [
        {
          "name": "stdout",
          "output_type": "stream",
          "text": [
            "Select operation:\n",
            "1.Add\n",
            "2.Subtract\n",
            "3.Multiply\n",
            "4.Divide\n",
            "Enter choice(1/2/3/4): 1\n",
            "Enter first number: 2\n",
            "Enter second number: 3\n",
            "2.0 + 3.0 = 5.0\n",
            "Let's do next calculation? (yes/no): no\n"
          ]
        }
      ]
    },
    {
      "cell_type": "markdown",
      "source": [
        "Has separate instructions for adding, subtracting, multiplying, and dividing.\n",
        "Shows a menu to the user.\n",
        "Keeps asking the user what they want to do until they say \"no\".\n",
        "Gets the numbers from the user.\n",
        "Does the math based on their choice.\n",
        "Shows the answer.\n",
        "Handles cases where the user types something wrong (like text instead of a number or trying to divide by zero)."
      ],
      "metadata": {
        "id": "-e0FhLx_azds"
      }
    },
    {
      "cell_type": "markdown",
      "source": [
        "task 5: Write a Python program that checks if a given year is a leap year\n",
        "prompt: generate a Python program that checks if a given year is a leap year,A functional program to check leap year with sample input/output\n",
        "• At least two versions of the code(from different prompts)\n",
        "• A short comparison of which version is better and why\n",
        "\n"
      ],
      "metadata": {
        "id": "y8UbL3ezbCd9"
      }
    },
    {
      "cell_type": "markdown",
      "metadata": {
        "id": "45d20c19"
      },
      "source": [
        "### Version 1: Using conditional statements\n",
        "\n",
        "This version uses a series of `if` and `elif` statements to check the conditions for a leap year."
      ]
    },
    {
      "cell_type": "code",
      "metadata": {
        "colab": {
          "base_uri": "https://localhost:8080/"
        },
        "id": "b36ac52b",
        "outputId": "bfe50f15-2c84-488d-fcd8-6180d0ea6e27"
      },
      "source": [
        "def is_leap_year_v1(year):\n",
        "  \"\"\"\n",
        "  Checks if a year is a leap year using conditional statements.\n",
        "\n",
        "  Args:\n",
        "    year: The year to check.\n",
        "\n",
        "  Returns:\n",
        "    True if the year is a leap year, False otherwise.\n",
        "  \"\"\"\n",
        "  if (year % 4 == 0 and year % 100 != 0) or (year % 400 == 0):\n",
        "    return True\n",
        "  else:\n",
        "    return False\n",
        "\n",
        "# Example usage:\n",
        "year1 = 2000\n",
        "year2 = 2023\n",
        "year3 = 1900\n",
        "\n",
        "print(f\"{year1} is a leap year: {is_leap_year_v1(year1)}\")\n",
        "print(f\"{year2} is a leap year: {is_leap_year_v1(year2)}\")\n",
        "print(f\"{year3} is a leap year: {is_leap_year_v1(year3)}\")"
      ],
      "execution_count": 10,
      "outputs": [
        {
          "output_type": "stream",
          "name": "stdout",
          "text": [
            "2000 is a leap year: True\n",
            "2023 is a leap year: False\n",
            "1900 is a leap year: False\n"
          ]
        }
      ]
    },
    {
      "cell_type": "markdown",
      "source": [
        "Version 1 is a good way to demonstrate the logic of determining a leap year using basic conditional statements. It's clear and easy to understand the rules being applied."
      ],
      "metadata": {
        "id": "tXmjC7qEb6-B"
      }
    },
    {
      "cell_type": "markdown",
      "metadata": {
        "id": "f68594ce"
      },
      "source": [
        "### Version 2: Using the `calendar` module\n",
        "\n",
        "This version leverages Python's built-in `calendar` module, which has a dedicated function for checking leap years."
      ]
    },
    {
      "cell_type": "code",
      "metadata": {
        "colab": {
          "base_uri": "https://localhost:8080/"
        },
        "id": "4211f7a1",
        "outputId": "9d7398d9-3dd7-4c0e-c477-524554696c68"
      },
      "source": [
        "import calendar\n",
        "\n",
        "def is_leap_year_v2(year):\n",
        "  \"\"\"\n",
        "  Checks if a year is a leap year using the calendar module.\n",
        "\n",
        "  Args:\n",
        "    year: The year to check.\n",
        "\n",
        "  Returns:\n",
        "    True if the year is a leap year, False otherwise.\n",
        "  \"\"\"\n",
        "  return calendar.isleap(year)\n",
        "\n",
        "# Example usage:\n",
        "year1 = 2000\n",
        "year2 = 2023\n",
        "year3 = 1900\n",
        "\n",
        "print(f\"{year1} is a leap year: {is_leap_year_v2(year1)}\")\n",
        "print(f\"{year2} is a leap year: {is_leap_year_v2(year2)}\")\n",
        "print(f\"{year3} is a leap year: {is_leap_year_v2(year3)}\")"
      ],
      "execution_count": 11,
      "outputs": [
        {
          "output_type": "stream",
          "name": "stdout",
          "text": [
            "2000 is a leap year: True\n",
            "2023 is a leap year: False\n",
            "1900 is a leap year: False\n"
          ]
        }
      ]
    },
    {
      "cell_type": "markdown",
      "metadata": {
        "id": "b531e09a"
      },
      "source": [
        "\n",
        "\n",
        "**Version 2** is more concise and relies on a built-in Python module (`calendar`). This is generally the preferred method in practical scenarios as it's less prone to errors and more efficient, as the `calendar` module's implementation is highly optimized.\n",
        "\n",
        "In summary, Version 1 is good for learning the underlying logic, while Version 2 is better for real-world applications due to its simplicity and efficiency."
      ]
    }
  ]
}