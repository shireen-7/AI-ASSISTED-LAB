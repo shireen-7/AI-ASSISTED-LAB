{
  "nbformat": 4,
  "nbformat_minor": 0,
  "metadata": {
    "colab": {
      "provenance": [],
      "authorship_tag": "ABX9TyMPwMa8TZp66oQ/CUCCGSiz",
      "include_colab_link": true
    },
    "kernelspec": {
      "name": "python3",
      "display_name": "Python 3"
    },
    "language_info": {
      "name": "python"
    }
  },
  "cells": [
    {
      "cell_type": "markdown",
      "metadata": {
        "id": "view-in-github",
        "colab_type": "text"
      },
      "source": [
        "<a href=\"https://colab.research.google.com/github/shireen-7/AI-ASSISTED-LAB/blob/main/ailab7_2.ipynb\" target=\"_parent\"><img src=\"https://colab.research.google.com/assets/colab-badge.svg\" alt=\"Open In Colab\"/></a>"
      ]
    },
    {
      "cell_type": "markdown",
      "source": [
        "TASK1: Syntax Error in Conditionals"
      ],
      "metadata": {
        "id": "6zj7OZq259gy"
      }
    },
    {
      "cell_type": "code",
      "source": [
        "a=10\n",
        "if a=10:\n",
        "  print(\"Equal\")"
      ],
      "metadata": {
        "id": "kjqzygiV6770"
      },
      "execution_count": null,
      "outputs": []
    },
    {
      "cell_type": "markdown",
      "source": [
        "error:\n",
        "The error in the code is that the assignment operator = is used in the if condition instead of the equality operator ==."
      ],
      "metadata": {
        "id": "YcVlWMSc8D_G"
      }
    },
    {
      "cell_type": "markdown",
      "source": [
        "Modified code:"
      ],
      "metadata": {
        "id": "-R_q-SMk7VuM"
      }
    },
    {
      "cell_type": "code",
      "source": [
        "a=10\n",
        "if a == 10:\n",
        "  print(\"Equal\")"
      ],
      "metadata": {
        "colab": {
          "base_uri": "https://localhost:8080/"
        },
        "id": "oroLj2i07g1N",
        "outputId": "acb1437d-3b19-4137-fdae-d852a4a774bf"
      },
      "execution_count": 7,
      "outputs": [
        {
          "output_type": "stream",
          "name": "stdout",
          "text": [
            "Equal\n"
          ]
        }
      ]
    },
    {
      "cell_type": "markdown",
      "source": [
        "TASK2: Loop Off-By-One Error"
      ],
      "metadata": {
        "id": "h4bzEBHH8Sk4"
      }
    },
    {
      "cell_type": "code",
      "source": [
        "def sum_upto_n(n):\n",
        "  total=0\n",
        "  for i in range(1,n):\n",
        "    total+=i\n",
        "  return total"
      ],
      "metadata": {
        "id": "tbJCkeLo8Z7I"
      },
      "execution_count": null,
      "outputs": []
    },
    {
      "cell_type": "markdown",
      "source": [
        "error:\n",
        "\n",
        "The error in the code is that the range(1, n) excludes n, leading to an off-by-one error. To include n in the sum, the range should be range(1, n + 1)."
      ],
      "metadata": {
        "id": "FnxEiWbk9AqM"
      }
    },
    {
      "cell_type": "markdown",
      "source": [
        "modified code:"
      ],
      "metadata": {
        "id": "YmbIqbN48u16"
      }
    },
    {
      "cell_type": "code",
      "source": [
        "def sum_upto_n(n):\n",
        "  total=0\n",
        "  for i in range(1, n + 1):\n",
        "    total+=i\n",
        "  return total\n",
        "\n",
        "print(sum_upto_n(5))"
      ],
      "metadata": {
        "colab": {
          "base_uri": "https://localhost:8080/"
        },
        "id": "fVNje4Hp80uA",
        "outputId": "1ece49f8-e9c9-4bfb-d3b5-5395fac900eb"
      },
      "execution_count": 9,
      "outputs": [
        {
          "output_type": "stream",
          "name": "stdout",
          "text": [
            "15\n"
          ]
        }
      ]
    },
    {
      "cell_type": "markdown",
      "source": [
        "TASK 3: AttributeError"
      ],
      "metadata": {
        "id": "3TOiUacl9dlN"
      }
    },
    {
      "cell_type": "code",
      "source": [
        "class User:\n",
        "  def __init__(self,name):\n",
        "    self.name=name\n",
        "\n",
        "u=User(\"ALICE\")\n",
        "print(u.getName())"
      ],
      "metadata": {
        "id": "Fc201P0-9j3x"
      },
      "execution_count": null,
      "outputs": []
    },
    {
      "cell_type": "markdown",
      "source": [
        "error:\n",
        "\n",
        "he error in the code is an AttributeError because the method getName() is not defined in the User class."
      ],
      "metadata": {
        "id": "yEO8fgvz-nTL"
      }
    },
    {
      "cell_type": "markdown",
      "source": [
        "modified code:\n"
      ],
      "metadata": {
        "id": "V7cQJ0Fh99rX"
      }
    },
    {
      "cell_type": "code",
      "source": [
        "class User:\n",
        "  def __init__(self,name):\n",
        "    self.name=name\n",
        "\n",
        "  def getName(self):\n",
        "    return self.name\n",
        "\n",
        "u=User(\"ALICE\")\n",
        "print(u.getName())"
      ],
      "metadata": {
        "colab": {
          "base_uri": "https://localhost:8080/"
        },
        "id": "-c9VPq5r-AS3",
        "outputId": "1e05acc1-e6a0-4459-b335-73150962e71c"
      },
      "execution_count": 10,
      "outputs": [
        {
          "output_type": "stream",
          "name": "stdout",
          "text": [
            "ALICE\n"
          ]
        }
      ]
    },
    {
      "cell_type": "markdown",
      "source": [
        "TASK4:\n",
        "\n",
        "Incorrect Class Attribute Initialization\n"
      ],
      "metadata": {
        "id": "VR2bDNhu_Pg8"
      }
    },
    {
      "cell_type": "code",
      "source": [
        "class Car:\n",
        "  def start():\n",
        "    print(\"Car started\")\n",
        "mycar= Car()\n",
        "mycar.start()"
      ],
      "metadata": {
        "id": "oKWz8J6v_Whg"
      },
      "execution_count": null,
      "outputs": []
    },
    {
      "cell_type": "markdown",
      "source": [
        "error:\n",
        "The error in the code is a TypeError. The start method in the Car class is defined without the self parameter, which is required for instance methods to refer to the instance of the class. I will modify the code to add the self parameter."
      ],
      "metadata": {
        "id": "w8bp6g8h_830"
      }
    },
    {
      "cell_type": "markdown",
      "source": [
        "modified code:\n"
      ],
      "metadata": {
        "id": "JgnvHJ2x_ozP"
      }
    },
    {
      "cell_type": "code",
      "source": [
        "class Car:\n",
        "  def start(self):\n",
        "    print(\"Car started\")\n",
        "mycar= Car()\n",
        "mycar.start()"
      ],
      "metadata": {
        "colab": {
          "base_uri": "https://localhost:8080/"
        },
        "id": "hSuo0Y3E_sWt",
        "outputId": "ce8246ac-4c39-493e-bec5-c62f66e83d55"
      },
      "execution_count": 12,
      "outputs": [
        {
          "output_type": "stream",
          "name": "stdout",
          "text": [
            "Car started\n"
          ]
        }
      ]
    },
    {
      "cell_type": "markdown",
      "source": [
        "TASK5: Conditional Logic Error in Grading System"
      ],
      "metadata": {
        "id": "7cn-B8v2AFnJ"
      }
    },
    {
      "cell_type": "code",
      "source": [
        "def grade_student(score):\n",
        "  if score < 40:\n",
        "    return \"A\"\n",
        "  elif score < 70:\n",
        "    return \"B\"\n",
        "  else:\n",
        "    return \"C\""
      ],
      "metadata": {
        "id": "Noa6dN7eAMIo"
      },
      "execution_count": null,
      "outputs": []
    },
    {
      "cell_type": "markdown",
      "source": [
        "error:\n",
        "there is a logical error in the code"
      ],
      "metadata": {
        "id": "Ef8ksuhHA22d"
      }
    },
    {
      "cell_type": "markdown",
      "source": [
        "Modified code:"
      ],
      "metadata": {
        "id": "egE1NoP1AhJ2"
      }
    },
    {
      "cell_type": "code",
      "source": [
        "def grade_student(score):\n",
        "  if score < 40:\n",
        "    return \"A\"\n",
        "  elif score < 70:\n",
        "    return \"B\"\n",
        "  else:\n",
        "    return \"C\"\n",
        "\n",
        "print(grade_student(50))"
      ],
      "metadata": {
        "colab": {
          "base_uri": "https://localhost:8080/"
        },
        "id": "aIW7GC5TBcPL",
        "outputId": "59bf2600-ea52-43f7-dbe8-dcd718fb65a9"
      },
      "execution_count": 16,
      "outputs": [
        {
          "output_type": "stream",
          "name": "stdout",
          "text": [
            "B\n"
          ]
        }
      ]
    }
  ]
}